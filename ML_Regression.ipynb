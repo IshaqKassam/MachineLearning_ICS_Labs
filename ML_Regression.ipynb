{
  "nbformat": 4,
  "nbformat_minor": 0,
  "metadata": {
    "colab": {
      "name": "ML_Regression.ipynb",
      "provenance": [],
      "collapsed_sections": [],
      "authorship_tag": "ABX9TyNFLaOhbO9r1zjhy5ZsUO4I",
      "include_colab_link": true
    },
    "kernelspec": {
      "name": "python3",
      "display_name": "Python 3"
    },
    "language_info": {
      "name": "python"
    }
  },
  "cells": [
    {
      "cell_type": "markdown",
      "metadata": {
        "id": "view-in-github",
        "colab_type": "text"
      },
      "source": [
        "<a href=\"https://colab.research.google.com/github/IshaqKassam/MachineLearning_ICS_Labs/blob/main/ML_Regression.ipynb\" target=\"_parent\"><img src=\"https://colab.research.google.com/assets/colab-badge.svg\" alt=\"Open In Colab\"/></a>"
      ]
    },
    {
      "cell_type": "code",
      "execution_count": 144,
      "metadata": {
        "id": "rrzcDjZlS8TK"
      },
      "outputs": [],
      "source": [
        "import matplotlib.pyplot as plt\n",
        "import numpy as np\n",
        "from scipy.stats import binom\n",
        "import pandas as pd"
      ]
    },
    {
      "cell_type": "code",
      "source": [
        "n = 100 #size of the dataset"
      ],
      "metadata": {
        "id": "gOm0OKWrgIT8"
      },
      "execution_count": 145,
      "outputs": []
    },
    {
      "cell_type": "code",
      "source": [
        "learning_rate = 0.000001\n",
        "\n",
        "data_set = {\"office_size\": np.random.normal(600, 60, n)}\n",
        "\n",
        "data_set[\"office_price\"] = np.random.normal(3600, 60, n)"
      ],
      "metadata": {
        "id": "ATkkIUo4ju2Q"
      },
      "execution_count": 146,
      "outputs": []
    },
    {
      "cell_type": "markdown",
      "source": [
        "generated a dummy dataset of office_size(x) and office_price (y)"
      ],
      "metadata": {
        "id": "PWrxmXAQlDxB"
      }
    },
    {
      "cell_type": "code",
      "source": [
        "pd.DataFrame(data_set)"
      ],
      "metadata": {
        "colab": {
          "base_uri": "https://localhost:8080/",
          "height": 423
        },
        "id": "WbHqJ2utkxD7",
        "outputId": "e4f5b216-a33c-4d24-970b-53769c1645f7"
      },
      "execution_count": 147,
      "outputs": [
        {
          "output_type": "execute_result",
          "data": {
            "text/plain": [
              "    office_size  office_price\n",
              "0    688.999804   3525.536596\n",
              "1    526.645119   3495.945638\n",
              "2    632.071290   3598.568740\n",
              "3    501.301939   3563.876418\n",
              "4    550.805353   3683.514295\n",
              "..          ...           ...\n",
              "95   645.289301   3526.414650\n",
              "96   671.188140   3579.666484\n",
              "97   573.426265   3572.611360\n",
              "98   738.514094   3671.139973\n",
              "99   677.606628   3634.089464\n",
              "\n",
              "[100 rows x 2 columns]"
            ],
            "text/html": [
              "\n",
              "  <div id=\"df-d9f04299-27f7-4258-8c13-b780b7089241\">\n",
              "    <div class=\"colab-df-container\">\n",
              "      <div>\n",
              "<style scoped>\n",
              "    .dataframe tbody tr th:only-of-type {\n",
              "        vertical-align: middle;\n",
              "    }\n",
              "\n",
              "    .dataframe tbody tr th {\n",
              "        vertical-align: top;\n",
              "    }\n",
              "\n",
              "    .dataframe thead th {\n",
              "        text-align: right;\n",
              "    }\n",
              "</style>\n",
              "<table border=\"1\" class=\"dataframe\">\n",
              "  <thead>\n",
              "    <tr style=\"text-align: right;\">\n",
              "      <th></th>\n",
              "      <th>office_size</th>\n",
              "      <th>office_price</th>\n",
              "    </tr>\n",
              "  </thead>\n",
              "  <tbody>\n",
              "    <tr>\n",
              "      <th>0</th>\n",
              "      <td>688.999804</td>\n",
              "      <td>3525.536596</td>\n",
              "    </tr>\n",
              "    <tr>\n",
              "      <th>1</th>\n",
              "      <td>526.645119</td>\n",
              "      <td>3495.945638</td>\n",
              "    </tr>\n",
              "    <tr>\n",
              "      <th>2</th>\n",
              "      <td>632.071290</td>\n",
              "      <td>3598.568740</td>\n",
              "    </tr>\n",
              "    <tr>\n",
              "      <th>3</th>\n",
              "      <td>501.301939</td>\n",
              "      <td>3563.876418</td>\n",
              "    </tr>\n",
              "    <tr>\n",
              "      <th>4</th>\n",
              "      <td>550.805353</td>\n",
              "      <td>3683.514295</td>\n",
              "    </tr>\n",
              "    <tr>\n",
              "      <th>...</th>\n",
              "      <td>...</td>\n",
              "      <td>...</td>\n",
              "    </tr>\n",
              "    <tr>\n",
              "      <th>95</th>\n",
              "      <td>645.289301</td>\n",
              "      <td>3526.414650</td>\n",
              "    </tr>\n",
              "    <tr>\n",
              "      <th>96</th>\n",
              "      <td>671.188140</td>\n",
              "      <td>3579.666484</td>\n",
              "    </tr>\n",
              "    <tr>\n",
              "      <th>97</th>\n",
              "      <td>573.426265</td>\n",
              "      <td>3572.611360</td>\n",
              "    </tr>\n",
              "    <tr>\n",
              "      <th>98</th>\n",
              "      <td>738.514094</td>\n",
              "      <td>3671.139973</td>\n",
              "    </tr>\n",
              "    <tr>\n",
              "      <th>99</th>\n",
              "      <td>677.606628</td>\n",
              "      <td>3634.089464</td>\n",
              "    </tr>\n",
              "  </tbody>\n",
              "</table>\n",
              "<p>100 rows × 2 columns</p>\n",
              "</div>\n",
              "      <button class=\"colab-df-convert\" onclick=\"convertToInteractive('df-d9f04299-27f7-4258-8c13-b780b7089241')\"\n",
              "              title=\"Convert this dataframe to an interactive table.\"\n",
              "              style=\"display:none;\">\n",
              "        \n",
              "  <svg xmlns=\"http://www.w3.org/2000/svg\" height=\"24px\"viewBox=\"0 0 24 24\"\n",
              "       width=\"24px\">\n",
              "    <path d=\"M0 0h24v24H0V0z\" fill=\"none\"/>\n",
              "    <path d=\"M18.56 5.44l.94 2.06.94-2.06 2.06-.94-2.06-.94-.94-2.06-.94 2.06-2.06.94zm-11 1L8.5 8.5l.94-2.06 2.06-.94-2.06-.94L8.5 2.5l-.94 2.06-2.06.94zm10 10l.94 2.06.94-2.06 2.06-.94-2.06-.94-.94-2.06-.94 2.06-2.06.94z\"/><path d=\"M17.41 7.96l-1.37-1.37c-.4-.4-.92-.59-1.43-.59-.52 0-1.04.2-1.43.59L10.3 9.45l-7.72 7.72c-.78.78-.78 2.05 0 2.83L4 21.41c.39.39.9.59 1.41.59.51 0 1.02-.2 1.41-.59l7.78-7.78 2.81-2.81c.8-.78.8-2.07 0-2.86zM5.41 20L4 18.59l7.72-7.72 1.47 1.35L5.41 20z\"/>\n",
              "  </svg>\n",
              "      </button>\n",
              "      \n",
              "  <style>\n",
              "    .colab-df-container {\n",
              "      display:flex;\n",
              "      flex-wrap:wrap;\n",
              "      gap: 12px;\n",
              "    }\n",
              "\n",
              "    .colab-df-convert {\n",
              "      background-color: #E8F0FE;\n",
              "      border: none;\n",
              "      border-radius: 50%;\n",
              "      cursor: pointer;\n",
              "      display: none;\n",
              "      fill: #1967D2;\n",
              "      height: 32px;\n",
              "      padding: 0 0 0 0;\n",
              "      width: 32px;\n",
              "    }\n",
              "\n",
              "    .colab-df-convert:hover {\n",
              "      background-color: #E2EBFA;\n",
              "      box-shadow: 0px 1px 2px rgba(60, 64, 67, 0.3), 0px 1px 3px 1px rgba(60, 64, 67, 0.15);\n",
              "      fill: #174EA6;\n",
              "    }\n",
              "\n",
              "    [theme=dark] .colab-df-convert {\n",
              "      background-color: #3B4455;\n",
              "      fill: #D2E3FC;\n",
              "    }\n",
              "\n",
              "    [theme=dark] .colab-df-convert:hover {\n",
              "      background-color: #434B5C;\n",
              "      box-shadow: 0px 1px 3px 1px rgba(0, 0, 0, 0.15);\n",
              "      filter: drop-shadow(0px 1px 2px rgba(0, 0, 0, 0.3));\n",
              "      fill: #FFFFFF;\n",
              "    }\n",
              "  </style>\n",
              "\n",
              "      <script>\n",
              "        const buttonEl =\n",
              "          document.querySelector('#df-d9f04299-27f7-4258-8c13-b780b7089241 button.colab-df-convert');\n",
              "        buttonEl.style.display =\n",
              "          google.colab.kernel.accessAllowed ? 'block' : 'none';\n",
              "\n",
              "        async function convertToInteractive(key) {\n",
              "          const element = document.querySelector('#df-d9f04299-27f7-4258-8c13-b780b7089241');\n",
              "          const dataTable =\n",
              "            await google.colab.kernel.invokeFunction('convertToInteractive',\n",
              "                                                     [key], {});\n",
              "          if (!dataTable) return;\n",
              "\n",
              "          const docLinkHtml = 'Like what you see? Visit the ' +\n",
              "            '<a target=\"_blank\" href=https://colab.research.google.com/notebooks/data_table.ipynb>data table notebook</a>'\n",
              "            + ' to learn more about interactive tables.';\n",
              "          element.innerHTML = '';\n",
              "          dataTable['output_type'] = 'display_data';\n",
              "          await google.colab.output.renderOutput(dataTable, element);\n",
              "          const docLink = document.createElement('div');\n",
              "          docLink.innerHTML = docLinkHtml;\n",
              "          element.appendChild(docLink);\n",
              "        }\n",
              "      </script>\n",
              "    </div>\n",
              "  </div>\n",
              "  "
            ]
          },
          "metadata": {},
          "execution_count": 147
        }
      ]
    },
    {
      "cell_type": "code",
      "source": [
        "class LinearRegression:\n",
        "  def __init__(self, size, learning_rate):\n",
        "    self.n_weight = 0\n",
        "    self.n_bias = 0\n",
        "    self.data_size = size\n",
        "    self.learning_rate = learning_rate\n",
        "    self.sum_error_squared = 0\n",
        "\n",
        "  def predict(self, weight, bias, data_set):\n",
        "    y_predict = data_set[\"office_size\"] * weight + bias\n",
        "    return y_predict\n",
        "\n",
        "  def mean_squared_error(self, data_set):\n",
        "    data_set[\"error\"] = data_set[\"office_price\"] - data_set[\"y_predict\"]\n",
        "    data_set[\"error_squared\"] = data_set[\"error\"]**2\n",
        "    return sum(data_set['error_squared'])/self.data_size\n",
        "\n",
        "  def grad_descent(self, bias, weight):\n",
        "    self.n_bias = bias - (self.learning_rate * - 2 * sum (data_set[\"error\"]))\n",
        "    self.n_weight = weight - (self.learning_rate * ((-2/self.data_size) * sum(data_set[\"office_size\"] * data_set[\"error\"])))\n",
        "    return self.n_bias, self.n_weight\n",
        "\n",
        "  "
      ],
      "metadata": {
        "id": "OmG6ZUHilTuz"
      },
      "execution_count": 148,
      "outputs": []
    },
    {
      "cell_type": "code",
      "source": [
        "model = LinearRegression(n, learning_rate)"
      ],
      "metadata": {
        "id": "zehRpuFEp3KN"
      },
      "execution_count": 149,
      "outputs": []
    },
    {
      "cell_type": "code",
      "source": [
        "weight = 0.6\n",
        "bias = 6\n",
        "epochs = 100\n",
        "\n",
        "for i in range(epochs):\n",
        "  data_set[\"y_predict\"] = model.predict(weight, bias, data_set)\n",
        "\n",
        "  model.mean_squared_error(data_set)\n",
        "\n",
        "  bias, weight = model.grad_descent(bias, weight)\n",
        "\n",
        "pd.DataFrame(data_set)"
      ],
      "metadata": {
        "colab": {
          "base_uri": "https://localhost:8080/",
          "height": 423
        },
        "id": "JRXaZ-zjqA5C",
        "outputId": "e5d3aae2-4936-4ffb-ae8f-8dd8c6e2ca7a"
      },
      "execution_count": 150,
      "outputs": [
        {
          "output_type": "execute_result",
          "data": {
            "text/plain": [
              "    office_size  office_price    y_predict       error  error_squared\n",
              "0    688.999804   3525.536596  4092.003630 -566.467034  320884.900655\n",
              "1    526.645119   3495.945638  3129.563845  366.381793  134235.618087\n",
              "2    632.071290   3598.568740  3754.530973 -155.962233   24324.218154\n",
              "3    501.301939   3563.876418  2979.329285  584.547133  341695.350613\n",
              "4    550.805353   3683.514295  3272.785894  410.728401  168697.819415\n",
              "..          ...           ...          ...         ...            ...\n",
              "95   645.289301   3526.414650  3832.887440 -306.472790   93925.571110\n",
              "96   671.188140   3579.666484  3986.415955 -406.749471  165445.132187\n",
              "97   573.426265   3572.611360  3406.882827  165.728533   27465.946589\n",
              "98   738.514094   3671.139973  4385.524712 -714.384739  510345.555596\n",
              "99   677.606628   3634.089464  4024.464798 -390.375335  152392.901890\n",
              "\n",
              "[100 rows x 5 columns]"
            ],
            "text/html": [
              "\n",
              "  <div id=\"df-cb221aa5-38ec-4a73-95d5-b07f19461bf0\">\n",
              "    <div class=\"colab-df-container\">\n",
              "      <div>\n",
              "<style scoped>\n",
              "    .dataframe tbody tr th:only-of-type {\n",
              "        vertical-align: middle;\n",
              "    }\n",
              "\n",
              "    .dataframe tbody tr th {\n",
              "        vertical-align: top;\n",
              "    }\n",
              "\n",
              "    .dataframe thead th {\n",
              "        text-align: right;\n",
              "    }\n",
              "</style>\n",
              "<table border=\"1\" class=\"dataframe\">\n",
              "  <thead>\n",
              "    <tr style=\"text-align: right;\">\n",
              "      <th></th>\n",
              "      <th>office_size</th>\n",
              "      <th>office_price</th>\n",
              "      <th>y_predict</th>\n",
              "      <th>error</th>\n",
              "      <th>error_squared</th>\n",
              "    </tr>\n",
              "  </thead>\n",
              "  <tbody>\n",
              "    <tr>\n",
              "      <th>0</th>\n",
              "      <td>688.999804</td>\n",
              "      <td>3525.536596</td>\n",
              "      <td>4092.003630</td>\n",
              "      <td>-566.467034</td>\n",
              "      <td>320884.900655</td>\n",
              "    </tr>\n",
              "    <tr>\n",
              "      <th>1</th>\n",
              "      <td>526.645119</td>\n",
              "      <td>3495.945638</td>\n",
              "      <td>3129.563845</td>\n",
              "      <td>366.381793</td>\n",
              "      <td>134235.618087</td>\n",
              "    </tr>\n",
              "    <tr>\n",
              "      <th>2</th>\n",
              "      <td>632.071290</td>\n",
              "      <td>3598.568740</td>\n",
              "      <td>3754.530973</td>\n",
              "      <td>-155.962233</td>\n",
              "      <td>24324.218154</td>\n",
              "    </tr>\n",
              "    <tr>\n",
              "      <th>3</th>\n",
              "      <td>501.301939</td>\n",
              "      <td>3563.876418</td>\n",
              "      <td>2979.329285</td>\n",
              "      <td>584.547133</td>\n",
              "      <td>341695.350613</td>\n",
              "    </tr>\n",
              "    <tr>\n",
              "      <th>4</th>\n",
              "      <td>550.805353</td>\n",
              "      <td>3683.514295</td>\n",
              "      <td>3272.785894</td>\n",
              "      <td>410.728401</td>\n",
              "      <td>168697.819415</td>\n",
              "    </tr>\n",
              "    <tr>\n",
              "      <th>...</th>\n",
              "      <td>...</td>\n",
              "      <td>...</td>\n",
              "      <td>...</td>\n",
              "      <td>...</td>\n",
              "      <td>...</td>\n",
              "    </tr>\n",
              "    <tr>\n",
              "      <th>95</th>\n",
              "      <td>645.289301</td>\n",
              "      <td>3526.414650</td>\n",
              "      <td>3832.887440</td>\n",
              "      <td>-306.472790</td>\n",
              "      <td>93925.571110</td>\n",
              "    </tr>\n",
              "    <tr>\n",
              "      <th>96</th>\n",
              "      <td>671.188140</td>\n",
              "      <td>3579.666484</td>\n",
              "      <td>3986.415955</td>\n",
              "      <td>-406.749471</td>\n",
              "      <td>165445.132187</td>\n",
              "    </tr>\n",
              "    <tr>\n",
              "      <th>97</th>\n",
              "      <td>573.426265</td>\n",
              "      <td>3572.611360</td>\n",
              "      <td>3406.882827</td>\n",
              "      <td>165.728533</td>\n",
              "      <td>27465.946589</td>\n",
              "    </tr>\n",
              "    <tr>\n",
              "      <th>98</th>\n",
              "      <td>738.514094</td>\n",
              "      <td>3671.139973</td>\n",
              "      <td>4385.524712</td>\n",
              "      <td>-714.384739</td>\n",
              "      <td>510345.555596</td>\n",
              "    </tr>\n",
              "    <tr>\n",
              "      <th>99</th>\n",
              "      <td>677.606628</td>\n",
              "      <td>3634.089464</td>\n",
              "      <td>4024.464798</td>\n",
              "      <td>-390.375335</td>\n",
              "      <td>152392.901890</td>\n",
              "    </tr>\n",
              "  </tbody>\n",
              "</table>\n",
              "<p>100 rows × 5 columns</p>\n",
              "</div>\n",
              "      <button class=\"colab-df-convert\" onclick=\"convertToInteractive('df-cb221aa5-38ec-4a73-95d5-b07f19461bf0')\"\n",
              "              title=\"Convert this dataframe to an interactive table.\"\n",
              "              style=\"display:none;\">\n",
              "        \n",
              "  <svg xmlns=\"http://www.w3.org/2000/svg\" height=\"24px\"viewBox=\"0 0 24 24\"\n",
              "       width=\"24px\">\n",
              "    <path d=\"M0 0h24v24H0V0z\" fill=\"none\"/>\n",
              "    <path d=\"M18.56 5.44l.94 2.06.94-2.06 2.06-.94-2.06-.94-.94-2.06-.94 2.06-2.06.94zm-11 1L8.5 8.5l.94-2.06 2.06-.94-2.06-.94L8.5 2.5l-.94 2.06-2.06.94zm10 10l.94 2.06.94-2.06 2.06-.94-2.06-.94-.94-2.06-.94 2.06-2.06.94z\"/><path d=\"M17.41 7.96l-1.37-1.37c-.4-.4-.92-.59-1.43-.59-.52 0-1.04.2-1.43.59L10.3 9.45l-7.72 7.72c-.78.78-.78 2.05 0 2.83L4 21.41c.39.39.9.59 1.41.59.51 0 1.02-.2 1.41-.59l7.78-7.78 2.81-2.81c.8-.78.8-2.07 0-2.86zM5.41 20L4 18.59l7.72-7.72 1.47 1.35L5.41 20z\"/>\n",
              "  </svg>\n",
              "      </button>\n",
              "      \n",
              "  <style>\n",
              "    .colab-df-container {\n",
              "      display:flex;\n",
              "      flex-wrap:wrap;\n",
              "      gap: 12px;\n",
              "    }\n",
              "\n",
              "    .colab-df-convert {\n",
              "      background-color: #E8F0FE;\n",
              "      border: none;\n",
              "      border-radius: 50%;\n",
              "      cursor: pointer;\n",
              "      display: none;\n",
              "      fill: #1967D2;\n",
              "      height: 32px;\n",
              "      padding: 0 0 0 0;\n",
              "      width: 32px;\n",
              "    }\n",
              "\n",
              "    .colab-df-convert:hover {\n",
              "      background-color: #E2EBFA;\n",
              "      box-shadow: 0px 1px 2px rgba(60, 64, 67, 0.3), 0px 1px 3px 1px rgba(60, 64, 67, 0.15);\n",
              "      fill: #174EA6;\n",
              "    }\n",
              "\n",
              "    [theme=dark] .colab-df-convert {\n",
              "      background-color: #3B4455;\n",
              "      fill: #D2E3FC;\n",
              "    }\n",
              "\n",
              "    [theme=dark] .colab-df-convert:hover {\n",
              "      background-color: #434B5C;\n",
              "      box-shadow: 0px 1px 3px 1px rgba(0, 0, 0, 0.15);\n",
              "      filter: drop-shadow(0px 1px 2px rgba(0, 0, 0, 0.3));\n",
              "      fill: #FFFFFF;\n",
              "    }\n",
              "  </style>\n",
              "\n",
              "      <script>\n",
              "        const buttonEl =\n",
              "          document.querySelector('#df-cb221aa5-38ec-4a73-95d5-b07f19461bf0 button.colab-df-convert');\n",
              "        buttonEl.style.display =\n",
              "          google.colab.kernel.accessAllowed ? 'block' : 'none';\n",
              "\n",
              "        async function convertToInteractive(key) {\n",
              "          const element = document.querySelector('#df-cb221aa5-38ec-4a73-95d5-b07f19461bf0');\n",
              "          const dataTable =\n",
              "            await google.colab.kernel.invokeFunction('convertToInteractive',\n",
              "                                                     [key], {});\n",
              "          if (!dataTable) return;\n",
              "\n",
              "          const docLinkHtml = 'Like what you see? Visit the ' +\n",
              "            '<a target=\"_blank\" href=https://colab.research.google.com/notebooks/data_table.ipynb>data table notebook</a>'\n",
              "            + ' to learn more about interactive tables.';\n",
              "          element.innerHTML = '';\n",
              "          dataTable['output_type'] = 'display_data';\n",
              "          await google.colab.output.renderOutput(dataTable, element);\n",
              "          const docLink = document.createElement('div');\n",
              "          docLink.innerHTML = docLinkHtml;\n",
              "          element.appendChild(docLink);\n",
              "        }\n",
              "      </script>\n",
              "    </div>\n",
              "  </div>\n",
              "  "
            ]
          },
          "metadata": {},
          "execution_count": 150
        }
      ]
    },
    {
      "cell_type": "code",
      "source": [
        "weight, bias"
      ],
      "metadata": {
        "colab": {
          "base_uri": "https://localhost:8080/"
        },
        "id": "QVO8V_iFqN87",
        "outputId": "2794d9fb-2089-402d-93ce-6d2e04e8bc64"
      },
      "execution_count": 151,
      "outputs": [
        {
          "output_type": "execute_result",
          "data": {
            "text/plain": [
              "(5.927995336596149, 7.615008979148957)"
            ]
          },
          "metadata": {},
          "execution_count": 151
        }
      ]
    },
    {
      "cell_type": "code",
      "source": [
        "plt.scatter(data_set[\"office_size\"], data_set[\"y_predict\"])\n",
        "plt.plot(data_set[\"office_size\"], data_set[\"y_predict\"], \"Red\")"
      ],
      "metadata": {
        "colab": {
          "base_uri": "https://localhost:8080/",
          "height": 287
        },
        "id": "ecVXnIt7qubc",
        "outputId": "79da7b1a-3d3d-45c1-b64b-06ae814309f4"
      },
      "execution_count": 152,
      "outputs": [
        {
          "output_type": "execute_result",
          "data": {
            "text/plain": [
              "[<matplotlib.lines.Line2D at 0x7f4c95a24650>]"
            ]
          },
          "metadata": {},
          "execution_count": 152
        },
        {
          "output_type": "display_data",
          "data": {
            "text/plain": [
              "<Figure size 432x288 with 1 Axes>"
            ],
            "image/png": "[encoded data removed]"
          },
          "metadata": {
            "needs_background": "light"
          }
        }
      ]
    },
    {
      "cell_type": "code",
      "source": [
        "#when size of office is 100\n",
        "\n",
        "size = 100\n",
        "\n",
        "price = weight * size + bias\n",
        "\n",
        "price"
      ],
      "metadata": {
        "colab": {
          "base_uri": "https://localhost:8080/"
        },
        "id": "uPr_1xiDweNG",
        "outputId": "d2e4d72a-13be-49f7-9925-74f3819bf08d"
      },
      "execution_count": 153,
      "outputs": [
        {
          "output_type": "execute_result",
          "data": {
            "text/plain": [
              "600.4145426387638"
            ]
          },
          "metadata": {},
          "execution_count": 153
        }
      ]
    }
  ]
}