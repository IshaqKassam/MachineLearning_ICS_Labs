{
  "nbformat": 4,
  "nbformat_minor": 0,
  "metadata": {
    "colab": {
      "name": "ML_Regression.ipynb",
      "provenance": [],
      "authorship_tag": "ABX9TyMFFShCOP4is9kCvfFvCbok",
      "include_colab_link": true
    },
    "kernelspec": {
      "name": "python3",
      "display_name": "Python 3"
    },
    "language_info": {
      "name": "python"
    }
  },
  "cells": [
    {
      "cell_type": "markdown",
      "metadata": {
        "id": "view-in-github",
        "colab_type": "text"
      },
      "source": [
        "<a href=\"https://colab.research.google.com/github/IshaqKassam/MachineLearning_ICS_Labs/blob/main/ML_Regression.ipynb\" target=\"_parent\"><img src=\"https://colab.research.google.com/assets/colab-badge.svg\" alt=\"Open In Colab\"/></a>"
      ]
    },
    {
      "cell_type": "code",
      "execution_count": 133,
      "metadata": {
        "id": "rrzcDjZlS8TK"
      },
      "outputs": [],
      "source": [
        "import matplotlib.pyplot as plt\n",
        "import numpy as np\n",
        "from scipy.stats import binom\n",
        "import pandas as pd"
      ]
    },
    {
      "cell_type": "code",
      "source": [
        "n = 100 #size of the dataset"
      ],
      "metadata": {
        "id": "gOm0OKWrgIT8"
      },
      "execution_count": 134,
      "outputs": []
    },
    {
      "cell_type": "code",
      "source": [
        "learning_rate = 0.000001\n",
        "\n",
        "data_set = {\"office_size\": np.random.normal(600, 60, n)}\n",
        "\n",
        "data_set[\"office_price\"] = np.random.normal(3600, 60, n)"
      ],
      "metadata": {
        "id": "ATkkIUo4ju2Q"
      },
      "execution_count": 135,
      "outputs": []
    },
    {
      "cell_type": "markdown",
      "source": [
        "generated a dummy dataset of office_size(x) and office_price (y)"
      ],
      "metadata": {
        "id": "PWrxmXAQlDxB"
      }
    },
    {
      "cell_type": "code",
      "source": [
        "pd.DataFrame(data_set)"
      ],
      "metadata": {
        "colab": {
          "base_uri": "https://localhost:8080/",
          "height": 423
        },
        "id": "WbHqJ2utkxD7",
        "outputId": "a14ae92c-6b70-43e3-bd5a-5e9b1513115c"
      },
      "execution_count": 136,
      "outputs": [
        {
          "output_type": "execute_result",
          "data": {
            "text/plain": [
              "    office_size  office_price\n",
              "0    639.622412   3644.743621\n",
              "1    710.809153   3628.465622\n",
              "2    555.777082   3616.295007\n",
              "3    523.377043   3591.270287\n",
              "4    673.941451   3630.976733\n",
              "..          ...           ...\n",
              "95   610.653103   3492.705223\n",
              "96   731.237607   3596.956669\n",
              "97   690.739785   3571.659666\n",
              "98   631.789129   3585.503316\n",
              "99   562.179443   3723.738811\n",
              "\n",
              "[100 rows x 2 columns]"
            ],
            "text/html": [
              "\n",
              "  <div id=\"df-e0872526-4f92-427f-ae03-b07a2a547b24\">\n",
              "    <div class=\"colab-df-container\">\n",
              "      <div>\n",
              "<style scoped>\n",
              "    .dataframe tbody tr th:only-of-type {\n",
              "        vertical-align: middle;\n",
              "    }\n",
              "\n",
              "    .dataframe tbody tr th {\n",
              "        vertical-align: top;\n",
              "    }\n",
              "\n",
              "    .dataframe thead th {\n",
              "        text-align: right;\n",
              "    }\n",
              "</style>\n",
              "<table border=\"1\" class=\"dataframe\">\n",
              "  <thead>\n",
              "    <tr style=\"text-align: right;\">\n",
              "      <th></th>\n",
              "      <th>office_size</th>\n",
              "      <th>office_price</th>\n",
              "    </tr>\n",
              "  </thead>\n",
              "  <tbody>\n",
              "    <tr>\n",
              "      <th>0</th>\n",
              "      <td>639.622412</td>\n",
              "      <td>3644.743621</td>\n",
              "    </tr>\n",
              "    <tr>\n",
              "      <th>1</th>\n",
              "      <td>710.809153</td>\n",
              "      <td>3628.465622</td>\n",
              "    </tr>\n",
              "    <tr>\n",
              "      <th>2</th>\n",
              "      <td>555.777082</td>\n",
              "      <td>3616.295007</td>\n",
              "    </tr>\n",
              "    <tr>\n",
              "      <th>3</th>\n",
              "      <td>523.377043</td>\n",
              "      <td>3591.270287</td>\n",
              "    </tr>\n",
              "    <tr>\n",
              "      <th>4</th>\n",
              "      <td>673.941451</td>\n",
              "      <td>3630.976733</td>\n",
              "    </tr>\n",
              "    <tr>\n",
              "      <th>...</th>\n",
              "      <td>...</td>\n",
              "      <td>...</td>\n",
              "    </tr>\n",
              "    <tr>\n",
              "      <th>95</th>\n",
              "      <td>610.653103</td>\n",
              "      <td>3492.705223</td>\n",
              "    </tr>\n",
              "    <tr>\n",
              "      <th>96</th>\n",
              "      <td>731.237607</td>\n",
              "      <td>3596.956669</td>\n",
              "    </tr>\n",
              "    <tr>\n",
              "      <th>97</th>\n",
              "      <td>690.739785</td>\n",
              "      <td>3571.659666</td>\n",
              "    </tr>\n",
              "    <tr>\n",
              "      <th>98</th>\n",
              "      <td>631.789129</td>\n",
              "      <td>3585.503316</td>\n",
              "    </tr>\n",
              "    <tr>\n",
              "      <th>99</th>\n",
              "      <td>562.179443</td>\n",
              "      <td>3723.738811</td>\n",
              "    </tr>\n",
              "  </tbody>\n",
              "</table>\n",
              "<p>100 rows × 2 columns</p>\n",
              "</div>\n",
              "      <button class=\"colab-df-convert\" onclick=\"convertToInteractive('df-e0872526-4f92-427f-ae03-b07a2a547b24')\"\n",
              "              title=\"Convert this dataframe to an interactive table.\"\n",
              "              style=\"display:none;\">\n",
              "        \n",
              "  <svg xmlns=\"http://www.w3.org/2000/svg\" height=\"24px\"viewBox=\"0 0 24 24\"\n",
              "       width=\"24px\">\n",
              "    <path d=\"M0 0h24v24H0V0z\" fill=\"none\"/>\n",
              "    <path d=\"M18.56 5.44l.94 2.06.94-2.06 2.06-.94-2.06-.94-.94-2.06-.94 2.06-2.06.94zm-11 1L8.5 8.5l.94-2.06 2.06-.94-2.06-.94L8.5 2.5l-.94 2.06-2.06.94zm10 10l.94 2.06.94-2.06 2.06-.94-2.06-.94-.94-2.06-.94 2.06-2.06.94z\"/><path d=\"M17.41 7.96l-1.37-1.37c-.4-.4-.92-.59-1.43-.59-.52 0-1.04.2-1.43.59L10.3 9.45l-7.72 7.72c-.78.78-.78 2.05 0 2.83L4 21.41c.39.39.9.59 1.41.59.51 0 1.02-.2 1.41-.59l7.78-7.78 2.81-2.81c.8-.78.8-2.07 0-2.86zM5.41 20L4 18.59l7.72-7.72 1.47 1.35L5.41 20z\"/>\n",
              "  </svg>\n",
              "      </button>\n",
              "      \n",
              "  <style>\n",
              "    .colab-df-container {\n",
              "      display:flex;\n",
              "      flex-wrap:wrap;\n",
              "      gap: 12px;\n",
              "    }\n",
              "\n",
              "    .colab-df-convert {\n",
              "      background-color: #E8F0FE;\n",
              "      border: none;\n",
              "      border-radius: 50%;\n",
              "      cursor: pointer;\n",
              "      display: none;\n",
              "      fill: #1967D2;\n",
              "      height: 32px;\n",
              "      padding: 0 0 0 0;\n",
              "      width: 32px;\n",
              "    }\n",
              "\n",
              "    .colab-df-convert:hover {\n",
              "      background-color: #E2EBFA;\n",
              "      box-shadow: 0px 1px 2px rgba(60, 64, 67, 0.3), 0px 1px 3px 1px rgba(60, 64, 67, 0.15);\n",
              "      fill: #174EA6;\n",
              "    }\n",
              "\n",
              "    [theme=dark] .colab-df-convert {\n",
              "      background-color: #3B4455;\n",
              "      fill: #D2E3FC;\n",
              "    }\n",
              "\n",
              "    [theme=dark] .colab-df-convert:hover {\n",
              "      background-color: #434B5C;\n",
              "      box-shadow: 0px 1px 3px 1px rgba(0, 0, 0, 0.15);\n",
              "      filter: drop-shadow(0px 1px 2px rgba(0, 0, 0, 0.3));\n",
              "      fill: #FFFFFF;\n",
              "    }\n",
              "  </style>\n",
              "\n",
              "      <script>\n",
              "        const buttonEl =\n",
              "          document.querySelector('#df-e0872526-4f92-427f-ae03-b07a2a547b24 button.colab-df-convert');\n",
              "        buttonEl.style.display =\n",
              "          google.colab.kernel.accessAllowed ? 'block' : 'none';\n",
              "\n",
              "        async function convertToInteractive(key) {\n",
              "          const element = document.querySelector('#df-e0872526-4f92-427f-ae03-b07a2a547b24');\n",
              "          const dataTable =\n",
              "            await google.colab.kernel.invokeFunction('convertToInteractive',\n",
              "                                                     [key], {});\n",
              "          if (!dataTable) return;\n",
              "\n",
              "          const docLinkHtml = 'Like what you see? Visit the ' +\n",
              "            '<a target=\"_blank\" href=https://colab.research.google.com/notebooks/data_table.ipynb>data table notebook</a>'\n",
              "            + ' to learn more about interactive tables.';\n",
              "          element.innerHTML = '';\n",
              "          dataTable['output_type'] = 'display_data';\n",
              "          await google.colab.output.renderOutput(dataTable, element);\n",
              "          const docLink = document.createElement('div');\n",
              "          docLink.innerHTML = docLinkHtml;\n",
              "          element.appendChild(docLink);\n",
              "        }\n",
              "      </script>\n",
              "    </div>\n",
              "  </div>\n",
              "  "
            ]
          },
          "metadata": {},
          "execution_count": 136
        }
      ]
    },
    {
      "cell_type": "code",
      "source": [
        "class LinearRegression:\n",
        "  def __init__(self, size, learning_rate):\n",
        "    self.n_weight = 0\n",
        "    self.n_bias = 0\n",
        "    self.data_size = size\n",
        "    self.learning_rate = learning_rate\n",
        "    self.sum_error_squared = 0\n",
        "\n",
        "  def predict(self, weight, bias, data_set):\n",
        "    y_predict = data_set[\"office_size\"] * weight + bias\n",
        "    return y_predict\n",
        "\n",
        "  def mean_squared_error(self, data_set):\n",
        "    data_set[\"error\"] = data_set[\"office_price\"] - data_set[\"y_predict\"]\n",
        "    data_set[\"error_squared\"] = data_set[\"error\"]**2\n",
        "    return sum(data_set['error_squared'])/self.data_size\n",
        "\n",
        "  def grad_descent(self, bias, weight):\n",
        "    self.n_bias = bias - (self.learning_rate * - 2 * sum (data_set[\"error\"]))\n",
        "    self.n_weight = weight - (self.learning_rate * ((-2/self.data_size) * sum(data_set[\"office_size\"] * data_set[\"error\"])))\n",
        "    return self.n_bias, self.n_weight\n",
        "\n",
        "  "
      ],
      "metadata": {
        "id": "OmG6ZUHilTuz"
      },
      "execution_count": 137,
      "outputs": []
    },
    {
      "cell_type": "code",
      "source": [
        "model = LinearRegression(n, learning_rate)"
      ],
      "metadata": {
        "id": "zehRpuFEp3KN"
      },
      "execution_count": 138,
      "outputs": []
    },
    {
      "cell_type": "code",
      "source": [
        "weight = 0.6\n",
        "bias = 6\n",
        "epochs = 100\n",
        "\n",
        "for i in range(epochs):\n",
        "  data_set[\"y_predict\"] = model.predict(weight, bias, data_set)\n",
        "\n",
        "  model.mean_squared_error(data_set)\n",
        "\n",
        "  bias, weight = model.grad_descent(bias, weight)\n",
        "\n",
        "pd.DataFrame(data_set)"
      ],
      "metadata": {
        "colab": {
          "base_uri": "https://localhost:8080/",
          "height": 423
        },
        "id": "JRXaZ-zjqA5C",
        "outputId": "2c121198-90ba-498c-e587-db27048c45ae"
      },
      "execution_count": 139,
      "outputs": [
        {
          "output_type": "execute_result",
          "data": {
            "text/plain": [
              "    office_size  office_price    y_predict       error  error_squared\n",
              "0    639.622412   3644.743621  3734.942522  -90.198901    8135.841770\n",
              "1    710.809153   3628.465622  4149.778832 -521.313210  271767.463073\n",
              "2    555.777082   3616.295007  3246.339062  369.955945  136867.401143\n",
              "3    523.377043   3591.270287  3057.529851  533.740436  284878.853317\n",
              "4    673.941451   3630.976733  3934.934587 -303.957854   92390.377146\n",
              "..          ...           ...          ...         ...            ...\n",
              "95   610.653103   3492.705223  3566.125667  -73.420445    5390.561689\n",
              "96   731.237607   3596.956669  4268.824384 -671.867715  451406.225915\n",
              "97   690.739785   3571.659666  4032.825839 -461.166173  212674.239541\n",
              "98   631.789129   3585.503316  3689.294550 -103.791235   10772.620365\n",
              "99   562.179443   3723.738811  3283.648427  440.090384  193679.545914\n",
              "\n",
              "[100 rows x 5 columns]"
            ],
            "text/html": [
              "\n",
              "  <div id=\"df-adbbfbb1-a6f8-4702-8bc3-775bf489f3a2\">\n",
              "    <div class=\"colab-df-container\">\n",
              "      <div>\n",
              "<style scoped>\n",
              "    .dataframe tbody tr th:only-of-type {\n",
              "        vertical-align: middle;\n",
              "    }\n",
              "\n",
              "    .dataframe tbody tr th {\n",
              "        vertical-align: top;\n",
              "    }\n",
              "\n",
              "    .dataframe thead th {\n",
              "        text-align: right;\n",
              "    }\n",
              "</style>\n",
              "<table border=\"1\" class=\"dataframe\">\n",
              "  <thead>\n",
              "    <tr style=\"text-align: right;\">\n",
              "      <th></th>\n",
              "      <th>office_size</th>\n",
              "      <th>office_price</th>\n",
              "      <th>y_predict</th>\n",
              "      <th>error</th>\n",
              "      <th>error_squared</th>\n",
              "    </tr>\n",
              "  </thead>\n",
              "  <tbody>\n",
              "    <tr>\n",
              "      <th>0</th>\n",
              "      <td>639.622412</td>\n",
              "      <td>3644.743621</td>\n",
              "      <td>3734.942522</td>\n",
              "      <td>-90.198901</td>\n",
              "      <td>8135.841770</td>\n",
              "    </tr>\n",
              "    <tr>\n",
              "      <th>1</th>\n",
              "      <td>710.809153</td>\n",
              "      <td>3628.465622</td>\n",
              "      <td>4149.778832</td>\n",
              "      <td>-521.313210</td>\n",
              "      <td>271767.463073</td>\n",
              "    </tr>\n",
              "    <tr>\n",
              "      <th>2</th>\n",
              "      <td>555.777082</td>\n",
              "      <td>3616.295007</td>\n",
              "      <td>3246.339062</td>\n",
              "      <td>369.955945</td>\n",
              "      <td>136867.401143</td>\n",
              "    </tr>\n",
              "    <tr>\n",
              "      <th>3</th>\n",
              "      <td>523.377043</td>\n",
              "      <td>3591.270287</td>\n",
              "      <td>3057.529851</td>\n",
              "      <td>533.740436</td>\n",
              "      <td>284878.853317</td>\n",
              "    </tr>\n",
              "    <tr>\n",
              "      <th>4</th>\n",
              "      <td>673.941451</td>\n",
              "      <td>3630.976733</td>\n",
              "      <td>3934.934587</td>\n",
              "      <td>-303.957854</td>\n",
              "      <td>92390.377146</td>\n",
              "    </tr>\n",
              "    <tr>\n",
              "      <th>...</th>\n",
              "      <td>...</td>\n",
              "      <td>...</td>\n",
              "      <td>...</td>\n",
              "      <td>...</td>\n",
              "      <td>...</td>\n",
              "    </tr>\n",
              "    <tr>\n",
              "      <th>95</th>\n",
              "      <td>610.653103</td>\n",
              "      <td>3492.705223</td>\n",
              "      <td>3566.125667</td>\n",
              "      <td>-73.420445</td>\n",
              "      <td>5390.561689</td>\n",
              "    </tr>\n",
              "    <tr>\n",
              "      <th>96</th>\n",
              "      <td>731.237607</td>\n",
              "      <td>3596.956669</td>\n",
              "      <td>4268.824384</td>\n",
              "      <td>-671.867715</td>\n",
              "      <td>451406.225915</td>\n",
              "    </tr>\n",
              "    <tr>\n",
              "      <th>97</th>\n",
              "      <td>690.739785</td>\n",
              "      <td>3571.659666</td>\n",
              "      <td>4032.825839</td>\n",
              "      <td>-461.166173</td>\n",
              "      <td>212674.239541</td>\n",
              "    </tr>\n",
              "    <tr>\n",
              "      <th>98</th>\n",
              "      <td>631.789129</td>\n",
              "      <td>3585.503316</td>\n",
              "      <td>3689.294550</td>\n",
              "      <td>-103.791235</td>\n",
              "      <td>10772.620365</td>\n",
              "    </tr>\n",
              "    <tr>\n",
              "      <th>99</th>\n",
              "      <td>562.179443</td>\n",
              "      <td>3723.738811</td>\n",
              "      <td>3283.648427</td>\n",
              "      <td>440.090384</td>\n",
              "      <td>193679.545914</td>\n",
              "    </tr>\n",
              "  </tbody>\n",
              "</table>\n",
              "<p>100 rows × 5 columns</p>\n",
              "</div>\n",
              "      <button class=\"colab-df-convert\" onclick=\"convertToInteractive('df-adbbfbb1-a6f8-4702-8bc3-775bf489f3a2')\"\n",
              "              title=\"Convert this dataframe to an interactive table.\"\n",
              "              style=\"display:none;\">\n",
              "        \n",
              "  <svg xmlns=\"http://www.w3.org/2000/svg\" height=\"24px\"viewBox=\"0 0 24 24\"\n",
              "       width=\"24px\">\n",
              "    <path d=\"M0 0h24v24H0V0z\" fill=\"none\"/>\n",
              "    <path d=\"M18.56 5.44l.94 2.06.94-2.06 2.06-.94-2.06-.94-.94-2.06-.94 2.06-2.06.94zm-11 1L8.5 8.5l.94-2.06 2.06-.94-2.06-.94L8.5 2.5l-.94 2.06-2.06.94zm10 10l.94 2.06.94-2.06 2.06-.94-2.06-.94-.94-2.06-.94 2.06-2.06.94z\"/><path d=\"M17.41 7.96l-1.37-1.37c-.4-.4-.92-.59-1.43-.59-.52 0-1.04.2-1.43.59L10.3 9.45l-7.72 7.72c-.78.78-.78 2.05 0 2.83L4 21.41c.39.39.9.59 1.41.59.51 0 1.02-.2 1.41-.59l7.78-7.78 2.81-2.81c.8-.78.8-2.07 0-2.86zM5.41 20L4 18.59l7.72-7.72 1.47 1.35L5.41 20z\"/>\n",
              "  </svg>\n",
              "      </button>\n",
              "      \n",
              "  <style>\n",
              "    .colab-df-container {\n",
              "      display:flex;\n",
              "      flex-wrap:wrap;\n",
              "      gap: 12px;\n",
              "    }\n",
              "\n",
              "    .colab-df-convert {\n",
              "      background-color: #E8F0FE;\n",
              "      border: none;\n",
              "      border-radius: 50%;\n",
              "      cursor: pointer;\n",
              "      display: none;\n",
              "      fill: #1967D2;\n",
              "      height: 32px;\n",
              "      padding: 0 0 0 0;\n",
              "      width: 32px;\n",
              "    }\n",
              "\n",
              "    .colab-df-convert:hover {\n",
              "      background-color: #E2EBFA;\n",
              "      box-shadow: 0px 1px 2px rgba(60, 64, 67, 0.3), 0px 1px 3px 1px rgba(60, 64, 67, 0.15);\n",
              "      fill: #174EA6;\n",
              "    }\n",
              "\n",
              "    [theme=dark] .colab-df-convert {\n",
              "      background-color: #3B4455;\n",
              "      fill: #D2E3FC;\n",
              "    }\n",
              "\n",
              "    [theme=dark] .colab-df-convert:hover {\n",
              "      background-color: #434B5C;\n",
              "      box-shadow: 0px 1px 3px 1px rgba(0, 0, 0, 0.15);\n",
              "      filter: drop-shadow(0px 1px 2px rgba(0, 0, 0, 0.3));\n",
              "      fill: #FFFFFF;\n",
              "    }\n",
              "  </style>\n",
              "\n",
              "      <script>\n",
              "        const buttonEl =\n",
              "          document.querySelector('#df-adbbfbb1-a6f8-4702-8bc3-775bf489f3a2 button.colab-df-convert');\n",
              "        buttonEl.style.display =\n",
              "          google.colab.kernel.accessAllowed ? 'block' : 'none';\n",
              "\n",
              "        async function convertToInteractive(key) {\n",
              "          const element = document.querySelector('#df-adbbfbb1-a6f8-4702-8bc3-775bf489f3a2');\n",
              "          const dataTable =\n",
              "            await google.colab.kernel.invokeFunction('convertToInteractive',\n",
              "                                                     [key], {});\n",
              "          if (!dataTable) return;\n",
              "\n",
              "          const docLinkHtml = 'Like what you see? Visit the ' +\n",
              "            '<a target=\"_blank\" href=https://colab.research.google.com/notebooks/data_table.ipynb>data table notebook</a>'\n",
              "            + ' to learn more about interactive tables.';\n",
              "          element.innerHTML = '';\n",
              "          dataTable['output_type'] = 'display_data';\n",
              "          await google.colab.output.renderOutput(dataTable, element);\n",
              "          const docLink = document.createElement('div');\n",
              "          docLink.innerHTML = docLinkHtml;\n",
              "          element.appendChild(docLink);\n",
              "        }\n",
              "      </script>\n",
              "    </div>\n",
              "  </div>\n",
              "  "
            ]
          },
          "metadata": {},
          "execution_count": 139
        }
      ]
    },
    {
      "cell_type": "code",
      "source": [
        "weight, bias"
      ],
      "metadata": {
        "colab": {
          "base_uri": "https://localhost:8080/"
        },
        "id": "QVO8V_iFqN87",
        "outputId": "88995034-c7b1-4e47-f4d8-081ea1814319"
      },
      "execution_count": 140,
      "outputs": [
        {
          "output_type": "execute_result",
          "data": {
            "text/plain": [
              "(5.827425893296132, 7.590015217140776)"
            ]
          },
          "metadata": {},
          "execution_count": 140
        }
      ]
    },
    {
      "cell_type": "code",
      "source": [
        "plt.scatter(data_set[\"office_size\"], data_set[\"y_predict\"])\n",
        "plt.plot(data_set[\"office_size\"], data_set[\"y_predict\"], \"Red\")"
      ],
      "metadata": {
        "colab": {
          "base_uri": "https://localhost:8080/",
          "height": 283
        },
        "id": "ecVXnIt7qubc",
        "outputId": "c656f93f-cb3f-419c-82bf-7645f31ff683"
      },
      "execution_count": 142,
      "outputs": [
        {
          "output_type": "execute_result",
          "data": {
            "text/plain": [
              "[<matplotlib.lines.Line2D at 0x7f4c95aac0d0>]"
            ]
          },
          "metadata": {},
          "execution_count": 142
        },
        {
          "output_type": "display_data",
          "data": {
            "text/plain": [
              "<Figure size 432x288 with 1 Axes>"
            ],
            "image/png": "[encoded data removed]"
          },
          "metadata": {
            "needs_background": "light"
          }
        }
      ]
    }
  ]
}